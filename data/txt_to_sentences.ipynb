{
 "cells": [
  {
   "cell_type": "code",
   "execution_count": 11,
   "id": "cc6bb637-a919-4019-83dc-1b6b94be7527",
   "metadata": {},
   "outputs": [],
   "source": [
    "import re\n",
    "import spacy\n",
    "from pathlib import Path"
   ]
  },
  {
   "cell_type": "code",
   "execution_count": 12,
   "id": "fd13022d-f9bb-4441-af64-2b24e1dfb1b6",
   "metadata": {},
   "outputs": [],
   "source": [
    "# Define file system and settings\n",
    "\n",
    "input_path = \"\" # Path to all_wikis.txt from unzipped corpus\n",
    "# Input from one file or from multiple in a directory\n",
    "input_is_one_file = True\n",
    "output_dir = \"../data\"\n",
    "\n",
    "# Number of sentences in each output file\n",
    "batch_size = 50000\n",
    "num_batches = 10"
   ]
  },
  {
   "cell_type": "code",
   "execution_count": 13,
   "id": "a7593f5d-93cf-4390-bf2a-4e73fb8fbff9",
   "metadata": {},
   "outputs": [],
   "source": [
    "def clean_text(text):\n",
    "    text = re.sub(\"\\s+\", ' ', text).strip()\n",
    "    replacements = [(r\"[“”]\", \"\\\"\"), \\\n",
    "                    (r\"[‘’]\", \"'\"), \\\n",
    "                    (r\"…\", \"...\"), \\\n",
    "                    (r\"[\\\"\\']\", '')] # This one is for my sanity. Let's pretend quotes don't exist :)\n",
    "    for replacement in replacements:\n",
    "        text = re.sub(replacement[0], replacement[1], text)\n",
    "    return text.strip()"
   ]
  },
  {
   "cell_type": "code",
   "execution_count": 25,
   "id": "bef74283-733b-47e8-abaa-b7c39abe9a98",
   "metadata": {},
   "outputs": [
    {
     "name": "stdout",
     "output_type": "stream",
     "text": [
      "Reading /xdisk/josorio1/aconverse/GEC_BETO/spanish-corpora/raw/all_wikis.txt\n",
      "Done.\n",
      "Texts done being created.\n",
      "Sentencizing 1,000,000 lines...\n",
      "Current batch size: 0\n",
      "Report: 1 done.\n",
      "Sentencizing 1,000,000 lines...\n",
      "Current batch size: 36104\n",
      "Report: 3 done.\n",
      "Sentencizing 1,000,000 lines...\n",
      "Current batch size: 240\n",
      "Report: 4 done.\n",
      "Sentencizing 1,000,000 lines...\n",
      "Current batch size: 36148\n",
      "Report: 5 done.\n",
      "Sentencizing 1,000,000 lines...\n",
      "Current batch size: 13493\n",
      "Report: 5 done.\n",
      "Sentencizing 1,000,000 lines...\n",
      "Current batch size: 69682\n",
      "Report: 6 done.\n",
      "Sentencizing 1,000,000 lines...\n",
      "Current batch size: 30910\n",
      "Report: 6 done.\n",
      "Sentencizing 1,000,000 lines...\n",
      "Current batch size: 92437\n",
      "Report: 7 done.\n",
      "Sentencizing 1,000,000 lines...\n",
      "Current batch size: 57021\n",
      "Report: 8 done.\n",
      "Sentencizing 1,000,000 lines...\n",
      "Current batch size: 25267\n",
      "Report: 8 done.\n",
      "Sentencizing 1,000,000 lines...\n",
      "Current batch size: 92173\n",
      "Report: 9 done.\n",
      "Sentencizing 1,000,000 lines...\n",
      "Current batch size: 60986\n",
      "Report: 10 done.\n",
      "Writing batches...\n",
      "Done.\n"
     ]
    }
   ],
   "source": [
    "nlp = spacy.load(\"es_core_news_sm\", disable=[\"tok2vec\", \"tagger\", \"parser\", \"attribute_ruler\", \"lemmatizer\", \"ner\"])\n",
    "nlp.enable_pipe(\"senter\")\n",
    "nlp.max_length = 200000000\n",
    "\n",
    "if input_is_one_file:\n",
    "    print(f\"Reading {input_path}\")\n",
    "    with open(input_path, 'r') as f:\n",
    "        lines = f.readlines()\n",
    "    # Separate texts into groups of 1,000,000 lines to avoid insane memory usage by spaCy\n",
    "    texts = [' '.join(lines[i*1_000_000:i*1_000_000+1_000_000]) for i in range(num_batches*100)]\n",
    "    print(\"Done.\")\n",
    "else:\n",
    "    texts = []\n",
    "    for file in Path(input_dir).rglob(\"*.txt\"):\n",
    "        print(f\"Reading {file}...\")\n",
    "        with open(file, 'r') as f:\n",
    "            texts.append(' '.join(f.readlines()))\n",
    "    print(\"Done.\")\n",
    "print(\"Texts done being created.\")\n",
    "\n",
    "batches = []\n",
    "cur_batch = []\n",
    "for text in texts:\n",
    "    print(\"Sentencizing 1,000,000 lines...\")\n",
    "    print(f\"Current batch size: {len(cur_batch)}\")\n",
    "    for sent in nlp(text).sents:\n",
    "        if len(sent) < 64:\n",
    "            cur_batch.append(sent.text)\n",
    "        if len(cur_batch) >= batch_size:\n",
    "            batches.append(cur_batch)\n",
    "            cur_batch = []\n",
    "        if len(batches) == num_batches:\n",
    "            break\n",
    "    print(f\"Report: {len(batches)} done.\")\n",
    "    if len(batches) == num_batches:\n",
    "        break\n",
    "            \n",
    "print(\"Writing batches...\")\n",
    "for i, batch in enumerate(batches):\n",
    "    with open(Path(output_dir) / f\"batch_{i+1}.txt\", 'w') as f:\n",
    "        for sentence in batch:\n",
    "            f.write(f\"{clean_text(sentence)}\\n\\n\")\n",
    "print(\"Done.\")"
   ]
  }
 ],
 "metadata": {
  "kernelspec": {
   "display_name": "Python 3 (ipykernel)",
   "language": "python",
   "name": "python3"
  },
  "language_info": {
   "codemirror_mode": {
    "name": "ipython",
    "version": 3
   },
   "file_extension": ".py",
   "mimetype": "text/x-python",
   "name": "python",
   "nbconvert_exporter": "python",
   "pygments_lexer": "ipython3",
   "version": "3.8.12"
  }
 },
 "nbformat": 4,
 "nbformat_minor": 5
}
