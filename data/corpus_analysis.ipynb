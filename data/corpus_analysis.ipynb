{
 "cells": [
  {
   "cell_type": "code",
   "execution_count": 1,
   "id": "3051e75f-d9e4-4f6a-92ae-f60effeb36f1",
   "metadata": {},
   "outputs": [],
   "source": [
    "import json\n",
    "from bs4 import BeautifulSoup"
   ]
  },
  {
   "cell_type": "code",
   "execution_count": 2,
   "id": "46bae0bf-a108-49f0-8072-802bd23994de",
   "metadata": {},
   "outputs": [],
   "source": [
    "# Input vars\n",
    "\n",
    "cows_corpus_path = \"/xdisk/josorio1/aconverse/GEC_BETO/ling-582-fall-2024-course-project-code-skitcon/data/COWS-L2H-labeled-STRICT.txt\"\n",
    "synthetic_corpus_path = \"/xdisk/josorio1/aconverse/GEC_BETO/ling-582-fall-2024-course-project-code-skitcon/data/batch_1_synthetic.txt\""
   ]
  },
  {
   "cell_type": "code",
   "execution_count": 10,
   "id": "fd8da21d-3b50-4e28-8943-c72ef8b8b8e7",
   "metadata": {},
   "outputs": [
    {
     "name": "stdout",
     "output_type": "stream",
     "text": [
      "COWS-L2H:\n",
      "52652 sentences\n",
      "18421 with no errors\n",
      "Labels: {\n",
      "  \"KEEP\": 711130,\n",
      "  \"MUTATE\": 28735,\n",
      "  \"COPY-ADD\": 6766,\n",
      "  \"DELETE\": 40054,\n",
      "  \"REPLACE\": 42012,\n",
      "  \"ADD\": 15674,\n",
      "  \"COPY-REPLACE\": 8079\n",
      "}\n"
     ]
    }
   ],
   "source": [
    "total = 0\n",
    "no_errors = 0\n",
    "label_counts = {}\n",
    "with open(cows_corpus_path, 'r') as f:\n",
    "    lines = f.readlines()\n",
    "    for i in range(0, len(lines), 4):\n",
    "        total += 1\n",
    "        errorful = lines[i]\n",
    "        labels = lines[i+1]\n",
    "        correct = lines[i+2]\n",
    "        if errorful == correct:\n",
    "            no_errors += 1\n",
    "        for label in labels.split('\\t'):\n",
    "            for sub_label in BeautifulSoup(label, features=\"html.parser\").find_all(True):\n",
    "                name = sub_label.name.upper()\n",
    "                if not name in label_counts:\n",
    "                    label_counts[name] = 0\n",
    "                label_counts[name] += 1\n",
    "\n",
    "print(f\"COWS-L2H:\\n{total} sentences\\n{no_errors} with no errors\\nLabels: {json.dumps(label_counts, indent=2)}\")"
   ]
  },
  {
   "cell_type": "code",
   "execution_count": 12,
   "id": "73c2aa5b-ddcd-47e3-aaf5-8774fb1ae42f",
   "metadata": {},
   "outputs": [
    {
     "name": "stdout",
     "output_type": "stream",
     "text": [
      "Synthetic:\n",
      "81124 sentences\n",
      "6546 with no errors\n",
      "Labels: {\n",
      "  \"KEEP\": 2061664,\n",
      "  \"COPY-ADD\": 11873,\n",
      "  \"MUTATE\": 29910,\n",
      "  \"DELETE\": 27183,\n",
      "  \"ADD\": 29132,\n",
      "  \"COPY-REPLACE\": 53878,\n",
      "  \"REPLACE\": 41001\n",
      "}\n"
     ]
    }
   ],
   "source": [
    "total = 0\n",
    "no_errors = 0\n",
    "label_counts = {}\n",
    "with open(synthetic_corpus_path, 'r') as f:\n",
    "    lines = f.readlines()\n",
    "    for i in range(0, len(lines), 4):\n",
    "        total += 1\n",
    "        errorful = lines[i]\n",
    "        labels = lines[i+1]\n",
    "        correct = lines[i+2]\n",
    "        if errorful == correct:\n",
    "            no_errors += 1\n",
    "        for label in labels.split('\\t'):\n",
    "            for sub_label in BeautifulSoup(label, features=\"html.parser\").find_all(True):\n",
    "                name = sub_label.name.upper()\n",
    "                if not name in label_counts:\n",
    "                    label_counts[name] = 0\n",
    "                label_counts[name] += 1\n",
    "\n",
    "print(f\"Synthetic:\\n{total} sentences\\n{no_errors} with no errors\\nLabels: {json.dumps(label_counts, indent=2)}\")"
   ]
  }
 ],
 "metadata": {
  "kernelspec": {
   "display_name": "Python 3 (ipykernel)",
   "language": "python",
   "name": "python3"
  },
  "language_info": {
   "codemirror_mode": {
    "name": "ipython",
    "version": 3
   },
   "file_extension": ".py",
   "mimetype": "text/x-python",
   "name": "python",
   "nbconvert_exporter": "python",
   "pygments_lexer": "ipython3",
   "version": "3.8.12"
  }
 },
 "nbformat": 4,
 "nbformat_minor": 5
}
